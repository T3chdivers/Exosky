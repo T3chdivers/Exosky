{
 "cells": [
  {
   "cell_type": "code",
   "id": "initial_id",
   "metadata": {
    "collapsed": true,
    "ExecuteTime": {
     "end_time": "2024-10-05T17:29:14.938802Z",
     "start_time": "2024-10-05T17:29:14.928942Z"
    }
   },
   "source": [
    "import numpy as np\n",
    "\n",
    "def kelvin_to_rgb(temp_kelvin):\n",
    "    # Ensure the temperature is within the typical range for visible spectrum\n",
    "    temp_kelvin = max(1000, min(temp_kelvin, 40000)) / 100\n",
    "\n",
    "    # Calculate red\n",
    "    if temp_kelvin <= 66:\n",
    "        red = 255\n",
    "    else:\n",
    "        red = 329.698727446 * ((temp_kelvin - 60) ** -0.1332047592)\n",
    "        red = max(0, min(255, red))\n",
    "\n",
    "    # Calculate green\n",
    "    if temp_kelvin <= 66:\n",
    "        green = 99.4708025861 * np.log(temp_kelvin) - 161.1195681661\n",
    "        green = max(0, min(255, green))\n",
    "    else:\n",
    "        green = 288.1221695283 * ((temp_kelvin - 60) ** -0.0755148492)\n",
    "        green = max(0, min(255, green))\n",
    "\n",
    "    # Calculate blue\n",
    "    if temp_kelvin >= 66:\n",
    "        blue = 255\n",
    "    else:\n",
    "        if temp_kelvin <= 19:\n",
    "            blue = 0\n",
    "        else:\n",
    "            blue = 138.5177312231 * np.log(temp_kelvin - 10) - 305.0447927307\n",
    "            blue = max(0, min(255, blue))\n",
    "\n",
    "    return int(red), int(green), int(blue)\n",
    "\n",
    "def rgb_to_hex(rgb):\n",
    "    return \"#{:02x}{:02x}{:02x}\".format(rgb[0], rgb[1], rgb[2])\n",
    "\n",
    "def kelvin_to_hex(temp_kelvin):\n",
    "    rgb = kelvin_to_rgb(temp_kelvin)\n",
    "    return rgb_to_hex(rgb)\n",
    "\n",
    "# Example usage\n",
    "star_temp_kelvin = 1000  # Typical temperature for a star similar to the Sun\n",
    "hex_color = kelvin_to_hex(star_temp_kelvin)\n",
    "print(f\"Hex color for {star_temp_kelvin} K: {hex_color}\")"
   ],
   "outputs": [
    {
     "name": "stdout",
     "output_type": "stream",
     "text": [
      "Hex color for 1000 K: #ff4300\n"
     ]
    }
   ],
   "execution_count": 4
  },
  {
   "metadata": {},
   "cell_type": "code",
   "outputs": [],
   "execution_count": null,
   "source": "",
   "id": "c18bd8e4b215ee3b"
  }
 ],
 "metadata": {
  "kernelspec": {
   "display_name": "Python 3",
   "language": "python",
   "name": "python3"
  },
  "language_info": {
   "codemirror_mode": {
    "name": "ipython",
    "version": 2
   },
   "file_extension": ".py",
   "mimetype": "text/x-python",
   "name": "python",
   "nbconvert_exporter": "python",
   "pygments_lexer": "ipython2",
   "version": "2.7.6"
  }
 },
 "nbformat": 4,
 "nbformat_minor": 5
}
